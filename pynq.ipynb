{
 "cells": [
  {
   "cell_type": "markdown",
   "id": "a3be6767-6b31-45a3-b2bf-b40556696c6d",
   "metadata": {
    "tags": []
   },
   "source": [
    "<table align=\"center\"><tr><th> <div style=\"width:600px\"> <h4>AGH University of Krakow <br><br> Faculty of Computer Science, Electronics and Telecommunication <br><br> Institute of Electronics </h4></div></th><th> <div style=\"width:200px\"><img src=\"./img/logo_agh.png\" width=\"68\" height=\"136\"/></div> </th></tr></table>\n",
    "\n",
    "---\n",
    "\n",
    "<div style=\"text-align:center\"><h3>CUSTOM SYSTEM DESIGN IN FPGA LABORATORY</h3></div>\n",
    "<br>\n",
    "<div style=\"text-align:center\"><h1> Sprawozdanie z projektu </h1></div>\n",
    "<br>\n",
    "\n",
    "> **NOTE:** This tutorial shows how to start your adventure with the PYNQ system using the [AMD-Xilinx KRIA KV260](https://www.amd.com/en/products/system-on-modules/kria/k26/kv260-vision-starter-kit.html) development platform.<br>After rebuilding the project in Vivado, all examples can be run on any FPGA SOC platform like [Zedboard](https://digilent.com/reference/programmable-logic/zedboard/start), [Zybo](https://digilent.com/reference/programmable-logic/zybo/start).\n",
    "\n",
    "\n",
    "## Contents\n",
    "\n",
    "* [Connection and communication with the development board](#Connection-and-communication-with-the-development-board)\n",
    "* [Cel projektu](#Cel-projektu)\n",
    "* [Wprowadzenie do tematu projektu](#Wprowadzenie-do-tematu-projektu)\n",
    "* [Using a new overlay with PYNQ](#Using-a-new-overlay-with-PYNQ)\n",
    "\n",
    "<div style=\"text-align:right\"><h5> ver 0.2.1 </h5></div><br>"
   ]
  },
  {
   "cell_type": "markdown",
   "id": "daf659bd",
   "metadata": {},
   "source": [
    "# Cel projektu\n",
    "\n",
    "Celem projektu jest stworzenie sprzętowej implementacji algorytmu sortowania bitconic\n",
    "z wykorzystaniem układu Zynq, który łączy elastyczność procesora ARM z mocą programowalnej logiki FPGA.\n",
    "Projekt ten ma na celu przeniesienie obliczeń z warstwy programowej do sprzętowej. \n",
    "Zynq pozwala na stworzenie dedykowanej architektury równoległej, która idealnie pasuje do natury bitonic sort.\n",
    "Kluczowe elementy algorytmu zostaną odwzorowane jako struktury sprzętowe pracujące synchronicznie i deterministycznie. \n",
    "W projekcie przewiduje się integrację części logicznej z systemem operacyjnym zainstalowanym na płytce rozwojowej Kria KV260,\n",
    "co umożliwi łatwą konfigurację i kontrolę procesu sortowania.\n",
    "Efektem końcowym będzie akcelerator sprzętowy, \n",
    "który może znaleźć zastosowanie w systemach wymagających szybkiego przetwarzania danych."
   ]
  },
  {
   "cell_type": "markdown",
   "id": "e230eb71",
   "metadata": {},
   "source": [
    "# Wprowadzenie do tematu projektu\n",
    "\n",
    "## Wstęp\n",
    "Bitonic Sort to algorytm sortowania oparty na tworzeniu tzw. sekwencji bitonicznych (ciągów, które najpierw rosną, a potem maleją (lub odwrotnie)). Algorytm ten w kolejnych etapach dzieli i porównuje elementy, aż uzyska w pełni posortowany ciąg(proces składa się z 6 stanów). \n",
    "Bitconic sort dzięki swojej strukturze dobrze nadaje się do implementacji sprzętowej i potokowej(szczególnie w FPGA).\n",
    "Algorytm ten działa z czasem O(log² n).\n",
    "\n",
    "## Zasada działania algorytmu\n",
    "Zasada działania algorytmu opiera się o dwa główne bloki funkcjonalne - minMax oraz Maxmin z których składa się główny moduł sortujący.\n",
    "Ich zadaniem jest porównywanie dwóch 8-bitowych liczb i przypisywanie mniejszej i większej z nich do odpowiednich wyjść. Różnica między nimi polega na kierunku sortowania:\n",
    "\n",
    "1. maxMin - moduł który jest wykorzystywany w etapach sortowania, w których tworzone są sekwencje rosnące.\n",
    "\n",
    "2. minMax - moduł który jest wykorzystywany w etapach sortowania, w których tworzone są sekwencje malejące.\n",
    "\n",
    "Takie podejście pozwala elastycznie budować sekwencje bitoniczne, w których kluczowe jest odpowiednie przemieszczanie danych zgodnie z ustalonym wzorcem porównań i zamian.\n",
    "\n",
    "\n",
    "| ![blok_komparator_1](img/blok_komparator_1.png) | ![blok_komparator_2](img/blok_komparator_1.png) |\n",
    "|------------------------------|------------------------------|\n",
    "\n",
    "Mając tak zaprojektowane moduły zaprojektowano główny moduł układu sortujacego zgodnie z schematem\n",
    "\n",
    "![Algorytm](img/algorytm.png \"Bitonic Sort Diagram\")\n",
    "\n",
    "\n",
    "# Projekt systemu sortującego - integracja z AXI \n",
    "\n",
    "Kolejnym etapem projektu była integracja zaprojektowanego algorytmu z płytką deweloperską Kria kv260. Połączenie tych dwóch rzeczy możliwe było dzięki wykorzystaniu magistrali AXI Lite, dzięki której możliwa jest komunikacja zaprojektowanego IP Core z Zynq UltraScale+.\n",
    "\n",
    "Zaprojektowany z wykorzystaniem środowiska Vivado układ przedstawiono poniżej.\n",
    "![Diagram sortowania bitonicznego](img/diagram.jpeg \"Bitonic Sort Diagram\")\n",
    "\n",
    "# Testy zaprojektowanego systemu\n",
    "## Projekt systemu sortującego - symulacja behawioralna w Vivado\n",
    "\n",
    "Pierwszym wykonanym testem zaraz po zaprojektowaniu systemu była symualcja behawioralna w Vivado, jej wynik przedstawiono poniżej\n",
    "\n",
    "![Wynik symulacji](img/przebieg.jpeg \"Symulation result\")\n",
    "\n",
    "## Projekt systemu sortującego - symulacja behawioralna w języku Python\n",
    "\n",
    "Drugim wykonanym testem była implementacja algorytmu bitconic w języku Python. Dzięki takiemu podejściu można łatwo porównać czy sprzętowa implementacja algorytmu przyniosła pozytywne efekty takie jak np. przyśpieszenie obliczeń itp. Zaprojektowany algorytm w języku Python przedstawiono poniżej."
   ]
  },
  {
   "cell_type": "code",
   "execution_count": null,
   "id": "2e45a518",
   "metadata": {},
   "outputs": [],
   "source": [
    "def compare_and_swap(arr, i, j, direction):\n",
    "    if (direction == 1 and arr[i] > arr[j]) or (direction == 0 and arr[i] < arr[j]):\n",
    "        arr[i], arr[j] = arr[j], arr[i]\n",
    "\n",
    "def bitonic_merge(arr, low, cnt, direction):\n",
    "    if cnt > 1:\n",
    "        k = cnt // 2\n",
    "        for i in range(low, low + k):\n",
    "            compare_and_swap(arr, i, i + k, direction)\n",
    "        bitonic_merge(arr, low, k, direction)\n",
    "        bitonic_merge(arr, low + k, k, direction)\n",
    "\n",
    "def bitonic_sort_recursive(arr, low, cnt, direction):\n",
    "    if cnt > 1:\n",
    "        k = cnt // 2\n",
    "        bitonic_sort_recursive(arr, low, k, 1)          \n",
    "        bitonic_sort_recursive(arr, low + k, k, 0)      \n",
    "        bitonic_merge(arr, low, cnt, direction)\n",
    "\n",
    "def bitonic_sort(arr, ascending=True):\n",
    "    n = len(arr)\n",
    "    if n & (n - 1) != 0:\n",
    "        raise ValueError(\"Array length should be power of 2.\")\n",
    "    bitonic_sort_recursive(arr, 0, n, 1 if ascending else 0)\n",
    "    return arr\n",
    "\n",
    "\n",
    "a = [3, 7, 4, 8, 6, 2, 1, 5]\n",
    "bitonic_sort(a)"
   ]
  },
  {
   "cell_type": "markdown",
   "id": "8b6915db",
   "metadata": {},
   "source": [
    "## Zysk obliczeniowy algorytmu sortującego\n",
    "W celu weryfikacji uzyskanych efektów, szczególnie czasu trwania algorytmu dla zadanych ilosci danych przpeorwdzono serię pomiarów których wynik przedstawiono poniżej.\n",
    "\n",
    "| liczba danych | Python [s] | Bitconic [s] | Zysk obliczeniowy[s] |\n",
    "|---------------|------------|--------------|----------------------|\n",
    "| 100           | 0.01397    | 0.0139       | 7E-05                |\n",
    "| 1000          | 0.1297     | 0.124        | 0.0057               |\n",
    "| 10000         | 1.27       | 1.2          | 0.07                 |\n",
    "| 100000        | 12.62      | 12.3         | 0.32                 |\n",
    "| 200000        | 25.11      | 24.06        | 1.05                 |"
   ]
  },
  {
   "cell_type": "markdown",
   "id": "e03cd236",
   "metadata": {},
   "source": [
    "\n",
    "![zysk_obliczen](img/zysk_boliczen.jfif \"Bitonic Sort Diagram\")"
   ]
  },
  {
   "cell_type": "markdown",
   "id": "bb5a366c-b9b5-4f51-809d-f60985752690",
   "metadata": {
    "tags": []
   },
   "source": [
    "# Connection and communication with the development board\n",
    "\n",
    "Część projektu zaczerpnięta z wprowadzenia do \"PYNQ - Introduction\" stworzonego przez Pana Sebastiana Koryciaka.\n",
    "\n",
    "\n",
    "> **STEP 1:** Connect cables to the KRIA\n",
    ">\n",
    ">> A. Insert the microSD card to the J11<br>\n",
    ">> B. Connect micro-USB cable to J4<br>\n",
    ">> C. Connect RJ45 cable<br>\n",
    ">> D. Connect power supply to J12<br>\n",
    ">\n",
    "> **WARNING:** After connecting to power supply the fan located at the KRIA board will start at full speed. It will slow down after correct boot of Ubuntu OS, in approx. 3 minuts.\n",
    "\n",
    "<img src=\"./img/kria_plugs.png\" width=\"300\"/>\n",
    "\n",
    "\n",
    "> **STEP 2:** Connect to the network\n",
    ">\n",
    "> PYNQ is working most efficient if it has access to the Internet. If available, you should connect your board to a network or router with Internet access. This will allow you to update your board and easily install new packages. There are two options:\n",
    ">\n",
    ">> LEFT option: Connect the KRIA with RJ45 directly to the PC (embedded network card, or dongle **USB<->Ethernet** included in the lab box)<br>\n",
    ">> RIGHT option: Connet the KRIA to the router<br>\n",
    "\n",
    "<img src=\"./img/kria_setup_network.png\" width=\"800\"/>\n",
    "\n",
    "> You will need to have an Ethernet port available on your computer, and you will need to have permissions to configure your network interface. With a direct connection, you will be able to use PYNQ, but unless you can bridge the Ethernet connection to the board to an Internet connection on your computer, your board will not have Internet access. You will be unable to update or load new packages without Internet access.<br>\n",
    ">\n",
    ">> In the example below **Ethernet** is PC connection to LAN, and **Ethernet 3** is connection with KRIA. Use **View Network Connections** to set **Internet Connetion Sharing** option.<br>In case of no Received Bytes on **Ethernet 3** network, the best solution is to *disable and enable* network sharing in the **Ethernet** Properties tab.\n",
    "\n",
    "<img src=\"./img/setup_ethernet.png\" width=\"800\"/>\n",
    "\n",
    "> **STEP 3:** Open a USB Serial Terminal\n",
    ">\n",
    ">  You can use the terminal to check the network connection of the board. [PuTTY](https://www.putty.org/) is one application that can be used. To open a terminal, you will need to know the COM port for the board. Use 115200 baud rate. To login use data:\n",
    ">\n",
    ">> username: ubuntu<br>\n",
    ">> password: kriasdup<br>\n",
    ">\n",
    "> You can check the HOSTNAME and IP address of the board using *ifconfig*. \n",
    "> In this example: \n",
    ">\n",
    ">> HOSTNAME: kriaSDUP-0<br>\n",
    ">> IPaddress: 192.168.137.227\n",
    "\n",
    "<img src=\"./img/kria_putty.png\" width=\"500\"/>\n",
    "\n",
    "> **STEP 4:** Connecting to Jupyter Notebook (LAB)\n",
    ">\n",
    "> Once your board is setup, to connect to Jupyter Notebooks open a web browser on your PC and navigate to:\n",
    ">\n",
    ">> [HOSTNAME:9090/lab](HOSTNAME:9090/lab) or <br>\n",
    ">> [IPaddress:9090/lab](IPaddress:9090/lab)<br>\n",
    ">\n",
    "> To login use data:\n",
    ">\n",
    ">> password: xilinx<br>\n",
    ">\n",
    "> You can use drag-and-drop to copy files to the board.<br>\n",
    "> To download file from the board use option File -> Download.\n",
    "\n",
    "<img src=\"./img/kria_jupyter.png\" width=\"600\"/>\n",
    "\n",
    "<div class=\"alert alert-success\"><strong>NOTE:</strong> Starting from now you can work on a copy of this document.<br> Create your work folder (ex. /sdup/student) and copy to it extracted archive (T8_pynq_notebook.zip from UPEL webpage) which consists of jupyter notebook file and a folder with images.<br>Then just open the notebook file on KRIA and go the the next step.</div>"
   ]
  },
  {
   "cell_type": "markdown",
   "id": "3afe858c-bc24-4e17-9f60-d2806b3805ce",
   "metadata": {},
   "source": [
    "### Instantiate the Overlay"
   ]
  },
  {
   "cell_type": "markdown",
   "id": "9f95c2ef-8b98-42cf-a107-9b88d8e2d577",
   "metadata": {},
   "source": [
    "# Using a new overlay with PYNQ\n",
    "Załadowanie modułu:"
   ]
  },
  {
   "cell_type": "code",
   "execution_count": 99,
   "id": "36357168",
   "metadata": {},
   "outputs": [],
   "source": [
    "from pynq import Overlay\n",
    "from time import sleep\n",
    "import random\n",
    "\n",
    "kv260_sdup_ov = Overlay(\"bitconic_v2.xsa\")"
   ]
  },
  {
   "cell_type": "markdown",
   "id": "d613b7af",
   "metadata": {},
   "source": [
    "Przetestowanie załączenia:"
   ]
  },
  {
   "cell_type": "code",
   "execution_count": 68,
   "id": "b8d58f9e",
   "metadata": {},
   "outputs": [
    {
     "data": {
      "text/plain": [
       "<pynq.overlay.Overlay at 0xffff3af03190>"
      ]
     },
     "execution_count": 68,
     "metadata": {},
     "output_type": "execute_result"
    }
   ],
   "source": [
    "kv260_sdup_ov"
   ]
  },
  {
   "cell_type": "markdown",
   "id": "1adacb51",
   "metadata": {},
   "source": [
    "**Po poprawnym załączeniu modułu** należy przetestować podstawowe działanie"
   ]
  },
  {
   "cell_type": "code",
   "execution_count": 154,
   "id": "4c1e820e",
   "metadata": {},
   "outputs": [
    {
     "name": "stdout",
     "output_type": "stream",
     "text": [
      "i0: 67305985, i1: 84281096, valid: 1\n"
     ]
    }
   ],
   "source": [
    "kv260_sdup_ov.bitconic_0.write(0, 0x04_03_02_01)\n",
    "kv260_sdup_ov.bitconic_0.write(4, 0x05_06_07_08)\n",
    "kv260_sdup_ov.bitconic_0.write(4*4, 1)\n",
    "\n",
    "\n",
    "i0 = kv260_sdup_ov.bitconic_0.read(4*0)\n",
    "i1 = kv260_sdup_ov.bitconic_0.read(4*1)\n",
    "valid = kv260_sdup_ov.bitconic_0.read(4*4)\n",
    "print(f\"i0: {i0}, i1: {i1}, valid: {valid}\")"
   ]
  },
  {
   "cell_type": "code",
   "execution_count": 155,
   "id": "ea2aa231",
   "metadata": {},
   "outputs": [
    {
     "name": "stdout",
     "output_type": "stream",
     "text": [
      "o0: 0x1020304, o1: 0x5060708, valid: 0\n"
     ]
    }
   ],
   "source": [
    "o0 = kv260_sdup_ov.bitconic_0.read(4*2)\n",
    "o1 = kv260_sdup_ov.bitconic_0.read(4*3)\n",
    "valid = kv260_sdup_ov.bitconic_0.read(4*5)\n",
    "print(f\"o0: 0x{o0:X}, o1: 0x{o1:X}, valid: {valid}\")"
   ]
  },
  {
   "cell_type": "code",
   "execution_count": 156,
   "id": "f00fb4b2",
   "metadata": {},
   "outputs": [
    {
     "name": "stdout",
     "output_type": "stream",
     "text": [
      "o0: 0x1020304, o1: 0x5060708, valid: 0\n"
     ]
    }
   ],
   "source": [
    "o0 = kv260_sdup_ov.bitconic_0.read(4*2)\n",
    "o1 = kv260_sdup_ov.bitconic_0.read(4*3)\n",
    "valid = kv260_sdup_ov.bitconic_0.read(4*5)\n",
    "print(f\"o0: 0x{o0:X}, o1: 0x{o1:X}, valid: {valid}\")"
   ]
  },
  {
   "cell_type": "markdown",
   "id": "8eef9192",
   "metadata": {},
   "source": [
    "Jak widać układ sortujący pracuje poprawnie.\n",
    "\n",
    "**Funkcje dodatkowe, poprawiające czytelność danych**"
   ]
  },
  {
   "cell_type": "code",
   "execution_count": 157,
   "id": "1ede674e",
   "metadata": {},
   "outputs": [],
   "source": [
    "number = 8\n",
    "\n",
    "def genRandom():\n",
    "    L = range(256)\n",
    "    \n",
    "    tab = [random.choice(L) for _ in range(number)]\n",
    "    print(f\"Input:  {tab}\")\n",
    "    i0 = 0\n",
    "    i1 = 0\n",
    "    for i in range(number//2):\n",
    "        i0 = (i0 << 8) + tab[i]\n",
    "        i1 = (i1 << 8) + tab[i + number//2]\n",
    "    return i0, i1\n",
    "\n",
    "def decode(o0, o1, valid):\n",
    "    ou0 = []\n",
    "    ou1 = []\n",
    "    for i in range(number//2):\n",
    "        ou0.append(o0 & 0xFF)\n",
    "        o0 = o0 >> 8\n",
    "\n",
    "        ou1.append(o1 & 0xFF)\n",
    "        o1 = o1 >> 8\n",
    "    ou0.reverse()\n",
    "    ou1.reverse()\n",
    "    tab = [*ou0, *ou1]\n",
    "    print(f\"Output: {tab}\")"
   ]
  },
  {
   "cell_type": "code",
   "execution_count": 138,
   "id": "74ff0630",
   "metadata": {},
   "outputs": [],
   "source": [
    "def toSort(i0, i1):\n",
    "    kv260_sdup_ov.bitconic_0.write(4*0, i0)\n",
    "    kv260_sdup_ov.bitconic_0.write(4*1, i1)\n",
    "    kv260_sdup_ov.bitconic_0.write(4*4, 1)\n",
    "    \n",
    "def fromSort():\n",
    "    o0    = kv260_sdup_ov.bitconic_0.read(4*2)\n",
    "    o1    = kv260_sdup_ov.bitconic_0.read(4*3)\n",
    "    valid = kv260_sdup_ov.bitconic_0.read(4*5)\n",
    "    return o0, o1, valid"
   ]
  },
  {
   "cell_type": "code",
   "execution_count": 159,
   "id": "88874204",
   "metadata": {},
   "outputs": [
    {
     "name": "stdout",
     "output_type": "stream",
     "text": [
      "Input:  [105, 207, 83, 136, 21, 151, 108, 133]\n",
      "Output: [105, 207, 83, 136, 21, 151, 108, 133]\n"
     ]
    }
   ],
   "source": [
    "i0, i1 = genRandom()\n",
    "decode(i0, i1, 0)"
   ]
  },
  {
   "cell_type": "code",
   "execution_count": 160,
   "id": "abe5fcc6",
   "metadata": {},
   "outputs": [
    {
     "name": "stdout",
     "output_type": "stream",
     "text": [
      "Output: [21, 83, 105, 108, 133, 136, 151, 207]\n"
     ]
    }
   ],
   "source": [
    "toSort(i0, i1)\n",
    "o0, o1, valid = fromSort()\n",
    "decode(o0, o1, valid)"
   ]
  },
  {
   "cell_type": "markdown",
   "id": "fb443609",
   "metadata": {},
   "source": [
    "## Test dla losowych wektorów"
   ]
  },
  {
   "cell_type": "code",
   "execution_count": 158,
   "id": "1ffe1a51",
   "metadata": {},
   "outputs": [
    {
     "name": "stdout",
     "output_type": "stream",
     "text": [
      "Input:  [35, 230, 196, 188, 22, 7, 225, 233]\n",
      "Output: [7, 22, 35, 188, 196, 225, 230, 233]\n",
      "Input:  [9, 187, 60, 132, 23, 123, 71, 22]\n",
      "Output: [9, 22, 23, 60, 71, 123, 132, 187]\n",
      "Input:  [26, 222, 96, 141, 50, 83, 144, 101]\n",
      "Output: [26, 50, 83, 96, 101, 141, 144, 222]\n",
      "Input:  [220, 71, 231, 8, 11, 63, 69, 30]\n",
      "Output: [8, 11, 30, 63, 69, 71, 220, 231]\n",
      "Input:  [234, 131, 15, 211, 236, 32, 166, 197]\n",
      "Output: [15, 32, 131, 166, 197, 211, 234, 236]\n",
      "Input:  [149, 83, 186, 118, 45, 131, 162, 55]\n",
      "Output: [45, 55, 83, 118, 131, 149, 162, 186]\n",
      "Input:  [112, 122, 182, 61, 188, 53, 188, 209]\n",
      "Output: [53, 61, 112, 122, 182, 188, 188, 209]\n",
      "Input:  [94, 222, 198, 12, 50, 21, 156, 126]\n",
      "Output: [12, 21, 50, 94, 126, 156, 198, 222]\n",
      "Input:  [161, 145, 42, 247, 36, 242, 210, 114]\n",
      "Output: [36, 42, 114, 145, 161, 210, 242, 247]\n",
      "Input:  [149, 182, 26, 96, 45, 190, 182, 113]\n",
      "Output: [26, 45, 96, 113, 149, 182, 182, 190]\n",
      "Input:  [126, 184, 16, 47, 141, 24, 63, 240]\n",
      "Output: [16, 24, 47, 63, 126, 141, 184, 240]\n",
      "Input:  [203, 118, 22, 204, 215, 144, 154, 215]\n",
      "Output: [22, 118, 144, 154, 203, 204, 215, 215]\n",
      "Input:  [157, 134, 190, 206, 214, 117, 236, 37]\n",
      "Output: [37, 117, 134, 157, 190, 206, 214, 236]\n",
      "Input:  [100, 151, 48, 110, 95, 11, 156, 200]\n",
      "Output: [11, 48, 95, 100, 110, 151, 156, 200]\n",
      "Input:  [25, 43, 44, 196, 85, 183, 111, 230]\n",
      "Output: [25, 43, 44, 85, 111, 183, 196, 230]\n",
      "Input:  [144, 83, 11, 44, 115, 108, 226, 136]\n",
      "Output: [11, 44, 83, 108, 115, 136, 144, 226]\n",
      "Input:  [133, 130, 231, 151, 213, 66, 202, 132]\n",
      "Output: [66, 130, 132, 133, 151, 202, 213, 231]\n",
      "Input:  [166, 3, 232, 41, 188, 205, 86, 74]\n",
      "Output: [3, 41, 74, 86, 166, 188, 205, 232]\n",
      "Input:  [198, 62, 202, 60, 69, 69, 178, 111]\n",
      "Output: [60, 62, 69, 69, 111, 178, 198, 202]\n",
      "Input:  [100, 98, 51, 79, 161, 217, 31, 196]\n",
      "Output: [31, 51, 79, 98, 100, 161, 196, 217]\n"
     ]
    }
   ],
   "source": [
    "for _ in range (20):\n",
    "    i0, i1 = genRandom()\n",
    "    toSort(i0, i1)\n",
    "    o0, o1, valid = fromSort()\n",
    "    decode(o0, o1, valid)"
   ]
  },
  {
   "cell_type": "code",
   "execution_count": null,
   "id": "278d2a04",
   "metadata": {},
   "outputs": [],
   "source": []
  }
 ],
 "metadata": {
  "kernelspec": {
   "display_name": "Python 3 (ipykernel)",
   "language": "python",
   "name": "python3"
  },
  "language_info": {
   "codemirror_mode": {
    "name": "ipython",
    "version": 3
   },
   "file_extension": ".py",
   "mimetype": "text/x-python",
   "name": "python",
   "nbconvert_exporter": "python",
   "pygments_lexer": "ipython3",
   "version": "3.10.12"
  }
 },
 "nbformat": 4,
 "nbformat_minor": 5
}
