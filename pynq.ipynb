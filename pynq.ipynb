{
 "cells": [
  {
   "cell_type": "markdown",
   "id": "a3be6767-6b31-45a3-b2bf-b40556696c6d",
   "metadata": {
    "tags": []
   },
   "source": [
    "<table align=\"center\"><tr><th> <div style=\"width:600px\"> <h4>AGH University of Krakow <br><br> Faculty of Computer Science, Electronics and Telecommunication <br><br> Institute of Electronics </h4></div></th><th> <div style=\"width:200px\"><img src=\"./img/logo_agh.png\" width=\"68\" height=\"136\"/></div> </th></tr></table>\n",
    "\n",
    "---\n",
    "\n",
    "<div style=\"text-align:center\"><h3>Systemy dedykowane w układach programowalnych</h3></div>\n",
    "<br>\n",
    "<div style=\"text-align:center\"><h1>Implementacja oraz porównanie algorytmu Bitconic sort w układzie FPGA</h1></div>\n",
    "<br>\n",
    "\n",
    "> **NOTE:** This tutorial shows how to start your adventure with the PYNQ system using the [AMD-Xilinx KRIA KV260](https://www.amd.com/en/products/system-on-modules/kria/k26/kv260-vision-starter-kit.html) development platform.<br>After rebuilding the project in Vivado, all examples can be run on any FPGA SOC platform like [Zedboard](https://digilent.com/reference/programmable-logic/zedboard/start), [Zybo](https://digilent.com/reference/programmable-logic/zybo/start).\n",
    "\n",
    "\n",
    "## Spis treści\n",
    "\n",
    "* [Cel projektu](#Cel-projektu)\n",
    "* [Wprowadzenie do algorytmu sortującego](#Wprowadzenie-do-algorytmu-sortującego)\n",
    "* [Projekt systemu sortującego - integracja z AXI](#projekt-systemu-sortującego---integracja-z-axi)\n",
    "* [Testy zaprojektowanego systemu](#testy-zaprojektowanego-systemu)\n",
    "* [Projekt systemu sortującego - symulacja behawioralna w Vivado](#projekt-systemu-sortującego---symulacja-behawioralna-w-vivado)\n",
    "* [Projekt systemu sortującego - symulacja behawioralna w języku Python](#projekt-systemu-sortującego---symulacja-behawioralna-w-języku-python)\n",
    "* [Zysk obliczeniowy algorytmu sortującego](#zysk-obliczeniowy-algorytmu-sortującego)\n",
    "* [Integracja z modułem FPGA z wykorzystaniem Jupiter Notebook](#integracja-z-modułem-fpga-z-wykorzystaniem-jupiter-notebook)\n",
    "\n",
    "<div style=\"text-align:right\"><h5> ver 0.2.1 </h5></div><br>"
   ]
  },
  {
   "cell_type": "markdown",
   "id": "daf659bd",
   "metadata": {},
   "source": [
    "# Cel projektu\n",
    "\n",
    "Celem projektu jest stworzenie sprzętowej implementacji algorytmu sortowania bitconic\n",
    "z wykorzystaniem układu Zynq, który łączy elastyczność procesora ARM z mocą programowalnej logiki FPGA.\n",
    "Projekt ten ma na celu przeniesienie obliczeń z warstwy programowej do sprzętowej. \n",
    "Zynq pozwala na stworzenie dedykowanej architektury równoległej, która idealnie pasuje do natury bitonic sort.\n",
    "Kluczowe elementy algorytmu zostaną odwzorowane jako struktury sprzętowe pracujące synchronicznie i deterministycznie. \n",
    "W projekcie przewiduje się integrację części logicznej z systemem operacyjnym zainstalowanym na płytce rozwojowej Kria KV260,\n",
    "co umożliwi łatwą konfigurację i kontrolę procesu sortowania.\n",
    "Efektem końcowym będzie akcelerator sprzętowy, \n",
    "który może znaleźć zastosowanie w systemach wymagających szybkiego przetwarzania danych."
   ]
  },
  {
   "cell_type": "markdown",
   "id": "e230eb71",
   "metadata": {},
   "source": [
    "# Wprowadzenie do algorytmy sortującego\n",
    "\n",
    "## Wstęp\n",
    "Bitonic Sort to algorytm sortowania oparty na tworzeniu tzw. sekwencji bitonicznych (ciągów, które najpierw rosną, a potem maleją (lub odwrotnie)). Algorytm ten w kolejnych etapach dzieli i porównuje elementy, aż uzyska w pełni posortowany ciąg(proces składa się z 6 stanów). \n",
    "Bitconic sort dzięki swojej strukturze dobrze nadaje się do implementacji sprzętowej i potokowej(szczególnie w FPGA).\n",
    "Algorytm ten działa z czasem O(log² n).\n",
    "\n",
    "## Zasada działania\n",
    "Zasada działania algorytmu opiera się o dwa główne bloki funkcjonalne - minMax oraz Maxmin z których składa się główny moduł sortujący.\n",
    "Ich zadaniem jest porównywanie dwóch 8-bitowych liczb i przypisywanie mniejszej i większej z nich do odpowiednich wyjść. Różnica między nimi polega na kierunku sortowania:\n",
    "\n",
    "1. maxMin - moduł który jest wykorzystywany w etapach sortowania, w których tworzone są sekwencje rosnące.\n",
    "\n",
    "2. minMax - moduł który jest wykorzystywany w etapach sortowania, w których tworzone są sekwencje malejące.\n",
    "\n",
    "Takie podejście pozwala elastycznie budować sekwencje bitoniczne, w których kluczowe jest odpowiednie przemieszczanie danych zgodnie z ustalonym wzorcem porównań i zamian.\n",
    "\n",
    "\n",
    "| ![blok_komparator_1](img/blok_komparator_1.png) | ![blok_komparator_2](img/blok_komparator_1.png) |\n",
    "|------------------------------|------------------------------|\n",
    "\n",
    "Mając tak zaprojektowane moduły zaprojektowano główny moduł układu sortujacego zgodnie z schematem\n",
    "\n",
    "![Algorytm](img/algorytm.png \"Bitonic Sort Diagram\")\n",
    "\n",
    "\n",
    "# Projekt systemu sortującego - integracja z AXI \n",
    "\n",
    "Kolejnym etapem projektu była integracja zaprojektowanego algorytmu z płytką deweloperską Kria kv260. Połączenie tych dwóch rzeczy możliwe było dzięki wykorzystaniu magistrali AXI Lite, dzięki której możliwa jest komunikacja zaprojektowanego IP Core z Zynq UltraScale+.\n",
    "\n",
    "Zaprojektowany z wykorzystaniem środowiska Vivado układ przedstawiono poniżej.\n",
    "![Diagram sortowania bitonicznego](img/diagram.jpeg \"Bitonic Sort Diagram\")\n",
    "\n",
    "# Testy zaprojektowanego systemu\n",
    "## Projekt systemu sortującego - symulacja behawioralna w Vivado\n",
    "\n",
    "Pierwszym wykonanym testem zaraz po zaprojektowaniu systemu była symualcja behawioralna w Vivado, jej wynik przedstawiono poniżej\n",
    "\n",
    "![Wynik symulacji](img/przebieg.jpeg \"Symulation result\")\n",
    "\n",
    "## Projekt systemu sortującego - symulacja behawioralna w języku Python\n",
    "\n",
    "Drugim wykonanym testem była implementacja algorytmu bitconic w języku Python. Dzięki takiemu podejściu można łatwo porównać czy sprzętowa implementacja algorytmu przyniosła pozytywne efekty takie jak np. przyśpieszenie obliczeń itp. Zaprojektowany algorytm w języku Python przedstawiono poniżej."
   ]
  },
  {
   "cell_type": "code",
   "execution_count": 1,
   "id": "2e45a518",
   "metadata": {},
   "outputs": [
    {
     "data": {
      "text/plain": [
       "[1, 2, 3, 4, 5, 6, 7, 8]"
      ]
     },
     "execution_count": 1,
     "metadata": {},
     "output_type": "execute_result"
    }
   ],
   "source": [
    "def compare_and_swap(arr, i, j, direction):\n",
    "    if (direction == 1 and arr[i] > arr[j]) or (direction == 0 and arr[i] < arr[j]):\n",
    "        arr[i], arr[j] = arr[j], arr[i]\n",
    "\n",
    "def bitonic_merge(arr, low, cnt, direction):\n",
    "    if cnt > 1:\n",
    "        k = cnt // 2\n",
    "        for i in range(low, low + k):\n",
    "            compare_and_swap(arr, i, i + k, direction)\n",
    "        bitonic_merge(arr, low, k, direction)\n",
    "        bitonic_merge(arr, low + k, k, direction)\n",
    "\n",
    "def bitonic_sort_recursive(arr, low, cnt, direction):\n",
    "    if cnt > 1:\n",
    "        k = cnt // 2\n",
    "        bitonic_sort_recursive(arr, low, k, 1)          \n",
    "        bitonic_sort_recursive(arr, low + k, k, 0)      \n",
    "        bitonic_merge(arr, low, cnt, direction)\n",
    "\n",
    "def bitonic_sort(arr, ascending=True):\n",
    "    n = len(arr)\n",
    "    if n & (n - 1) != 0:\n",
    "        raise ValueError(\"Array length should be power of 2.\")\n",
    "    bitonic_sort_recursive(arr, 0, n, 1 if ascending else 0)\n",
    "    return arr\n",
    "\n",
    "\n",
    "a = [3, 7, 4, 8, 6, 2, 1, 5]\n",
    "bitonic_sort(a)"
   ]
  },
  {
   "cell_type": "markdown",
   "id": "8b6915db",
   "metadata": {},
   "source": [
    "## Zysk obliczeniowy algorytmu sortującego\n",
    "W celu weryfikacji uzyskanych efektów, szczególnie czasu trwania algorytmu dla zadanych ilosci danych przpeorwdzono serię pomiarów których wynik przedstawiono poniżej.\n",
    "\n",
    "| liczba danych | Python [s] | Bitconic [s] | Zysk obliczeniowy[s] |\n",
    "|---------------|------------|--------------|----------------------|\n",
    "| 100           | 0.01397    | 0.0139       | 7E-05                |\n",
    "| 1000          | 0.1297     | 0.124        | 0.0057               |\n",
    "| 10000         | 1.27       | 1.2          | 0.07                 |\n",
    "| 100000        | 12.62      | 12.3         | 0.32                 |\n",
    "| 200000        | 25.11      | 24.06        | 1.05                 |"
   ]
  },
  {
   "cell_type": "markdown",
   "id": "e03cd236",
   "metadata": {},
   "source": [
    "\n",
    "![zysk_obliczen](img/zysk_boliczen.jfif \"Bitonic Sort Diagram\")"
   ]
  },
  {
   "cell_type": "markdown",
   "id": "9f95c2ef-8b98-42cf-a107-9b88d8e2d577",
   "metadata": {},
   "source": [
    "# Integracja z modułem FPGA z wykorzystaniem Jupiter Notebook\n",
    "Załadowanie modułu:"
   ]
  },
  {
   "cell_type": "code",
   "execution_count": 2,
   "id": "36357168",
   "metadata": {},
   "outputs": [
    {
     "data": {
      "application/javascript": "\ntry {\nrequire(['notebook/js/codecell'], function(codecell) {\n  codecell.CodeCell.options_default.highlight_modes[\n      'magic_text/x-csrc'] = {'reg':[/^%%microblaze/]};\n  Jupyter.notebook.events.one('kernel_ready.Kernel', function(){\n      Jupyter.notebook.get_cells().map(function(cell){\n          if (cell.cell_type == 'code'){ cell.auto_highlight(); } }) ;\n  });\n});\n} catch (e) {};\n"
     },
     "metadata": {},
     "output_type": "display_data"
    },
    {
     "data": {
      "application/javascript": "\ntry {\nrequire(['notebook/js/codecell'], function(codecell) {\n  codecell.CodeCell.options_default.highlight_modes[\n      'magic_text/x-csrc'] = {'reg':[/^%%pybind11/]};\n  Jupyter.notebook.events.one('kernel_ready.Kernel', function(){\n      Jupyter.notebook.get_cells().map(function(cell){\n          if (cell.cell_type == 'code'){ cell.auto_highlight(); } }) ;\n  });\n});\n} catch (e) {};\n"
     },
     "metadata": {},
     "output_type": "display_data"
    }
   ],
   "source": [
    "from pynq import Overlay\n",
    "from time import sleep\n",
    "import random\n",
    "\n",
    "kv260_sdup_ov = Overlay(\"bitconic_v2.xsa\")"
   ]
  },
  {
   "cell_type": "markdown",
   "id": "d613b7af",
   "metadata": {},
   "source": [
    "Przetestowanie załączenia:"
   ]
  },
  {
   "cell_type": "code",
   "execution_count": 3,
   "id": "b8d58f9e",
   "metadata": {},
   "outputs": [
    {
     "data": {
      "text/plain": [
       "<pynq.overlay.Overlay at 0xffffa83e3c10>"
      ]
     },
     "execution_count": 3,
     "metadata": {},
     "output_type": "execute_result"
    }
   ],
   "source": [
    "kv260_sdup_ov"
   ]
  },
  {
   "cell_type": "markdown",
   "id": "1adacb51",
   "metadata": {},
   "source": [
    "**Po poprawnym załączeniu modułu** należy przetestować podstawowe działanie"
   ]
  },
  {
   "cell_type": "code",
   "execution_count": 4,
   "id": "4c1e820e",
   "metadata": {},
   "outputs": [
    {
     "name": "stdout",
     "output_type": "stream",
     "text": [
      "i0: 67305985, i1: 84281096, valid: 1\n"
     ]
    }
   ],
   "source": [
    "kv260_sdup_ov.bitconic_0.write(0, 0x04_03_02_01)\n",
    "kv260_sdup_ov.bitconic_0.write(4, 0x05_06_07_08)\n",
    "kv260_sdup_ov.bitconic_0.write(4*4, 1)\n",
    "\n",
    "\n",
    "i0 = kv260_sdup_ov.bitconic_0.read(4*0)\n",
    "i1 = kv260_sdup_ov.bitconic_0.read(4*1)\n",
    "valid = kv260_sdup_ov.bitconic_0.read(4*4)\n",
    "print(f\"i0: {i0}, i1: {i1}, valid: {valid}\")"
   ]
  },
  {
   "cell_type": "code",
   "execution_count": 5,
   "id": "ea2aa231",
   "metadata": {},
   "outputs": [
    {
     "name": "stdout",
     "output_type": "stream",
     "text": [
      "o0: 0x1020304, o1: 0x5060708, valid: 0\n"
     ]
    }
   ],
   "source": [
    "o0 = kv260_sdup_ov.bitconic_0.read(4*2)\n",
    "o1 = kv260_sdup_ov.bitconic_0.read(4*3)\n",
    "valid = kv260_sdup_ov.bitconic_0.read(4*5)\n",
    "print(f\"o0: 0x{o0:X}, o1: 0x{o1:X}, valid: {valid}\")"
   ]
  },
  {
   "cell_type": "code",
   "execution_count": 6,
   "id": "f00fb4b2",
   "metadata": {},
   "outputs": [
    {
     "name": "stdout",
     "output_type": "stream",
     "text": [
      "o0: 0x1020304, o1: 0x5060708, valid: 0\n"
     ]
    }
   ],
   "source": [
    "o0 = kv260_sdup_ov.bitconic_0.read(4*2)\n",
    "o1 = kv260_sdup_ov.bitconic_0.read(4*3)\n",
    "valid = kv260_sdup_ov.bitconic_0.read(4*5)\n",
    "print(f\"o0: 0x{o0:X}, o1: 0x{o1:X}, valid: {valid}\")"
   ]
  },
  {
   "cell_type": "markdown",
   "id": "8eef9192",
   "metadata": {},
   "source": [
    "Jak widać układ sortujący pracuje poprawnie.\n",
    "\n",
    "**Funkcje dodatkowe, poprawiające czytelność danych**"
   ]
  },
  {
   "cell_type": "code",
   "execution_count": 7,
   "id": "1ede674e",
   "metadata": {},
   "outputs": [],
   "source": [
    "number = 8\n",
    "\n",
    "def genRandom():\n",
    "    L = range(256)\n",
    "    \n",
    "    tab = [random.choice(L) for _ in range(number)]\n",
    "    # print(f\"Input:  {tab}\")\n",
    "\n",
    "    return tab\n",
    "\n",
    "def encode(tab):\n",
    "    i0 = 0\n",
    "    i1 = 0\n",
    "    for i in range(number//2):\n",
    "        i0 = (i0 << 8) + tab[i]\n",
    "        i1 = (i1 << 8) + tab[i + number//2]\n",
    "    return i0, i1\n",
    "\n",
    "def decode(o0, o1):\n",
    "    ou0 = []\n",
    "    ou1 = []\n",
    "    for i in range(number//2):\n",
    "        ou0.append(o0 & 0xFF)\n",
    "        o0 = o0 >> 8\n",
    "\n",
    "        ou1.append(o1 & 0xFF)\n",
    "        o1 = o1 >> 8\n",
    "    ou0.reverse()\n",
    "    ou1.reverse()\n",
    "    tab = [*ou0, *ou1]\n",
    "    return tab"
   ]
  },
  {
   "cell_type": "code",
   "execution_count": 8,
   "id": "74ff0630",
   "metadata": {},
   "outputs": [],
   "source": [
    "def toSort(i0, i1):\n",
    "    kv260_sdup_ov.bitconic_0.write(4*0, i0)\n",
    "    kv260_sdup_ov.bitconic_0.write(4*1, i1)\n",
    "    kv260_sdup_ov.bitconic_0.write(4*4, 1)\n",
    "    \n",
    "def fromSort():\n",
    "    o0    = kv260_sdup_ov.bitconic_0.read(4*2)\n",
    "    o1    = kv260_sdup_ov.bitconic_0.read(4*3)\n",
    "    valid = kv260_sdup_ov.bitconic_0.read(4*5)\n",
    "    return o0, o1, valid"
   ]
  },
  {
   "cell_type": "code",
   "execution_count": 9,
   "id": "88874204",
   "metadata": {},
   "outputs": [
    {
     "name": "stdout",
     "output_type": "stream",
     "text": [
      "Input: [71, 172, 19, 177, 33, 104, 112, 91], (1202459569, 560492635)\n"
     ]
    }
   ],
   "source": [
    "tab = genRandom()\n",
    "i0, i1 = encode(tab)\n",
    "print(f\"Input: {tab}, {i0, i1}\")"
   ]
  },
  {
   "cell_type": "code",
   "execution_count": 10,
   "id": "abe5fcc6",
   "metadata": {},
   "outputs": [
    {
     "name": "stdout",
     "output_type": "stream",
     "text": [
      "Output: [19, 33, 71, 91, 104, 112, 172, 177]\n"
     ]
    }
   ],
   "source": [
    "toSort(i0, i1)\n",
    "o0, o1, valid = fromSort()\n",
    "out = decode(o0, o1)\n",
    "print(f\"Output: {out}\")"
   ]
  },
  {
   "cell_type": "markdown",
   "id": "fb443609",
   "metadata": {},
   "source": [
    "## Test poprawności sortowania dla losowych wektorów"
   ]
  },
  {
   "cell_type": "code",
   "execution_count": 11,
   "id": "1ffe1a51",
   "metadata": {},
   "outputs": [
    {
     "name": "stdout",
     "output_type": "stream",
     "text": [
      "Output: \n",
      "\tHardware: [25, 39, 101, 110, 159, 160, 224, 239],\n",
      "\tSoftware: [25, 39, 101, 110, 159, 160, 224, 239]\n",
      "Dane posortowane\n",
      "\n",
      "Output: \n",
      "\tHardware: [15, 47, 157, 166, 189, 192, 205, 254],\n",
      "\tSoftware: [15, 47, 157, 166, 189, 192, 205, 254]\n",
      "Dane posortowane\n",
      "\n",
      "Output: \n",
      "\tHardware: [15, 16, 87, 88, 120, 146, 199, 200],\n",
      "\tSoftware: [15, 16, 87, 88, 120, 146, 199, 200]\n",
      "Dane posortowane\n",
      "\n",
      "Output: \n",
      "\tHardware: [4, 64, 68, 71, 89, 169, 188, 253],\n",
      "\tSoftware: [4, 64, 68, 71, 89, 169, 188, 253]\n",
      "Dane posortowane\n",
      "\n",
      "Output: \n",
      "\tHardware: [8, 24, 31, 48, 54, 85, 182, 229],\n",
      "\tSoftware: [8, 24, 31, 48, 54, 85, 182, 229]\n",
      "Dane posortowane\n",
      "\n",
      "Output: \n",
      "\tHardware: [0, 12, 75, 84, 112, 135, 135, 238],\n",
      "\tSoftware: [0, 12, 75, 84, 112, 135, 135, 238]\n",
      "Dane posortowane\n",
      "\n",
      "Output: \n",
      "\tHardware: [19, 61, 72, 74, 178, 240, 246, 250],\n",
      "\tSoftware: [19, 61, 72, 74, 178, 240, 246, 250]\n",
      "Dane posortowane\n",
      "\n",
      "Output: \n",
      "\tHardware: [61, 98, 105, 110, 131, 163, 186, 255],\n",
      "\tSoftware: [61, 98, 105, 110, 131, 163, 186, 255]\n",
      "Dane posortowane\n",
      "\n",
      "Output: \n",
      "\tHardware: [6, 31, 50, 58, 98, 131, 133, 249],\n",
      "\tSoftware: [6, 31, 50, 58, 98, 131, 133, 249]\n",
      "Dane posortowane\n",
      "\n",
      "Output: \n",
      "\tHardware: [36, 55, 76, 103, 151, 158, 182, 215],\n",
      "\tSoftware: [36, 55, 76, 103, 151, 158, 182, 215]\n",
      "Dane posortowane\n",
      "\n",
      "Output: \n",
      "\tHardware: [13, 24, 41, 132, 160, 205, 221, 255],\n",
      "\tSoftware: [13, 24, 41, 132, 160, 205, 221, 255]\n",
      "Dane posortowane\n",
      "\n",
      "Output: \n",
      "\tHardware: [37, 107, 149, 169, 203, 206, 225, 229],\n",
      "\tSoftware: [37, 107, 149, 169, 203, 206, 225, 229]\n",
      "Dane posortowane\n",
      "\n",
      "Output: \n",
      "\tHardware: [25, 60, 68, 83, 117, 186, 216, 237],\n",
      "\tSoftware: [25, 60, 68, 83, 117, 186, 216, 237]\n",
      "Dane posortowane\n",
      "\n",
      "Output: \n",
      "\tHardware: [24, 51, 63, 107, 136, 162, 171, 249],\n",
      "\tSoftware: [24, 51, 63, 107, 136, 162, 171, 249]\n",
      "Dane posortowane\n",
      "\n",
      "Output: \n",
      "\tHardware: [48, 69, 71, 123, 130, 131, 146, 148],\n",
      "\tSoftware: [48, 69, 71, 123, 130, 131, 146, 148]\n",
      "Dane posortowane\n",
      "\n",
      "Output: \n",
      "\tHardware: [21, 60, 65, 83, 97, 153, 206, 245],\n",
      "\tSoftware: [21, 60, 65, 83, 97, 153, 206, 245]\n",
      "Dane posortowane\n",
      "\n",
      "Output: \n",
      "\tHardware: [24, 31, 49, 63, 137, 138, 160, 212],\n",
      "\tSoftware: [24, 31, 49, 63, 137, 138, 160, 212]\n",
      "Dane posortowane\n",
      "\n",
      "Output: \n",
      "\tHardware: [57, 61, 79, 94, 194, 196, 217, 255],\n",
      "\tSoftware: [57, 61, 79, 94, 194, 196, 217, 255]\n",
      "Dane posortowane\n",
      "\n",
      "Output: \n",
      "\tHardware: [40, 124, 125, 134, 147, 153, 193, 255],\n",
      "\tSoftware: [40, 124, 125, 134, 147, 153, 193, 255]\n",
      "Dane posortowane\n",
      "\n",
      "Output: \n",
      "\tHardware: [5, 86, 88, 94, 142, 146, 216, 254],\n",
      "\tSoftware: [5, 86, 88, 94, 142, 146, 216, 254]\n",
      "Dane posortowane\n",
      "\n"
     ]
    }
   ],
   "source": [
    "for _ in range (20):\n",
    "    tab = genRandom()\n",
    "    i0, i1 = encode(tab)\n",
    "\n",
    "    toSort(i0, i1)\n",
    "    o0, o1, valid = fromSort()\n",
    "\n",
    "    hard = decode(o0, o1)\n",
    "    \n",
    "    inArray = decode(i0, i1)\n",
    "    soft = bitonic_sort(inArray)\n",
    "    \n",
    "    \n",
    "    print(f\"Output: \\n\\tHardware: {hard},\\n\\tSoftware: {soft}\")\n",
    "    if (hard == soft):\n",
    "        print(\"Dane posortowane\")\n",
    "    else:\n",
    "        print(\"Błąd w sortowaniu\")\n",
    "    print()"
   ]
  },
  {
   "cell_type": "markdown",
   "id": "9aea01ba",
   "metadata": {},
   "source": [
    "### Test dużej ilości danych:"
   ]
  },
  {
   "cell_type": "code",
   "execution_count": 12,
   "id": "278d2a04",
   "metadata": {},
   "outputs": [],
   "source": [
    "from time import perf_counter_ns\n",
    "count = 100_000\n",
    "inp = []\n",
    "i0 = []\n",
    "i1 = []\n",
    "outHard = []\n",
    "outSoft = []\n",
    "\n",
    "for _ in range(count):\n",
    "    inp.append(genRandom())\n",
    "    in0, in1 = encode(inp[-1])\n",
    "    i0.append(in0)\n",
    "    i1.append(in1)"
   ]
  },
  {
   "cell_type": "markdown",
   "id": "1916d0d3",
   "metadata": {},
   "source": [
    "**Pomiar czasu sortowania za pomocą hardware**"
   ]
  },
  {
   "cell_type": "code",
   "execution_count": 13,
   "id": "333f6d7f",
   "metadata": {},
   "outputs": [
    {
     "name": "stdout",
     "output_type": "stream",
     "text": [
      "Czas sortowania 100000 wektorów za pomocą hardwaru: 12.455306447s\n"
     ]
    }
   ],
   "source": [
    "start = perf_counter_ns()\n",
    "for i in range(count):\n",
    "    toSort(i0[i], i1[i])\n",
    "    outHard.append(fromSort())\n",
    "stop = perf_counter_ns()\n",
    "\n",
    "print(f\"Czas sortowania {count} wektorów za pomocą hardwaru: {(stop - start)/1e9}s\")"
   ]
  },
  {
   "cell_type": "markdown",
   "id": "7ee89341",
   "metadata": {},
   "source": [
    "**Pomiar czasu sortowania za pomocą software**"
   ]
  },
  {
   "cell_type": "code",
   "execution_count": 14,
   "id": "9f49a227",
   "metadata": {},
   "outputs": [
    {
     "name": "stdout",
     "output_type": "stream",
     "text": [
      "Czas sortowania 100000 wektorów za pomocą softwaru: 12.567472045s\n"
     ]
    }
   ],
   "source": [
    "start = perf_counter_ns()\n",
    "for i in range(count):\n",
    "    outSoft.append(bitonic_sort(inp[i]))\n",
    "stop = perf_counter_ns()\n",
    "\n",
    "print(f\"Czas sortowania {count} wektorów za pomocą softwaru: {(stop - start)/1e9}s\")"
   ]
  },
  {
   "cell_type": "markdown",
   "id": "547c1286",
   "metadata": {},
   "source": [
    "**Czas obiegu pętli**"
   ]
  },
  {
   "cell_type": "code",
   "execution_count": 15,
   "id": "24c22ee4",
   "metadata": {},
   "outputs": [
    {
     "name": "stdout",
     "output_type": "stream",
     "text": [
      "Czas pustej petli 100000: 0.03556604s\n"
     ]
    }
   ],
   "source": [
    "start = perf_counter_ns()\n",
    "for i in range(count):\n",
    "    pass\n",
    "stop = perf_counter_ns()\n",
    "print(f\"Czas pustej petli {count}: {(stop - start)/1e9}s\")"
   ]
  },
  {
   "cell_type": "markdown",
   "id": "5fcbc5b7",
   "metadata": {},
   "source": [
    "**Sprawdzenia czy dane zostały posortowane tak samo**"
   ]
  },
  {
   "cell_type": "code",
   "execution_count": 16,
   "id": "c381f4e0",
   "metadata": {},
   "outputs": [
    {
     "name": "stdout",
     "output_type": "stream",
     "text": [
      "Poprawnie posortowane\n"
     ]
    }
   ],
   "source": [
    "isOk = True\n",
    "for i in range(count):\n",
    "    tab = decode(outHard[i][0], outHard[i][1])\n",
    "    if (outSoft[i] != tab):\n",
    "        print(\"Dane niepoprawnie posortowane\")\n",
    "        print(f\"Soft: {outSoft[i]}\")\n",
    "        print(f\"Hard: {tab}\")\n",
    "        isOk = False\n",
    "        break\n",
    "        \n",
    "if isOk:\n",
    "    print(\"Poprawnie posortowane\")"
   ]
  },
  {
   "cell_type": "markdown",
   "id": "e3b26881",
   "metadata": {},
   "source": [
    "# Bibliografia:\n",
    "\n",
    "* [Bitonic Sorter – Digital System Design](https://digitalsystemdesign.in/bitonic-sorter/?srsltid=AfmBOooVIl94g1gllULhNk6ti3-PQA91RY1omOcI2EAuezkFsd4gKhoz#google_vignette)\n",
    "* Instrukcja do labolatorium nr. 5 „PYnQ - Wprowadzenie”, autor: Sebastian Koryciak"
   ]
  }
 ],
 "metadata": {
  "kernelspec": {
   "display_name": "Python 3 (ipykernel)",
   "language": "python",
   "name": "python3"
  },
  "language_info": {
   "codemirror_mode": {
    "name": "ipython",
    "version": 3
   },
   "file_extension": ".py",
   "mimetype": "text/x-python",
   "name": "python",
   "nbconvert_exporter": "python",
   "pygments_lexer": "ipython3",
   "version": "3.10.12"
  }
 },
 "nbformat": 4,
 "nbformat_minor": 5
}
